{
 "cells": [
  {
   "cell_type": "markdown",
   "id": "a18d82ab",
   "metadata": {},
   "source": [
    "# Exploratory Data Analysis"
   ]
  },
  {
   "cell_type": "markdown",
   "id": "f1e09e8a",
   "metadata": {},
   "source": [
    "## Audience/Stakeholders"
   ]
  },
  {
   "cell_type": "markdown",
   "id": "d0cf2f02",
   "metadata": {},
   "source": [
    "- Clearly identify who your are writing your final report for\n",
    "\n",
    "The"
   ]
  },
  {
   "cell_type": "markdown",
   "id": "f0823f4e",
   "metadata": {},
   "source": [
    "## Problem Statement"
   ]
  },
  {
   "cell_type": "markdown",
   "id": "452b2b9d",
   "metadata": {},
   "source": [
    "- Create a concise and compelling problem or question that guides your analysis. Example\n",
    "  - \"The men's basketball team had a worse performance this year. Did preparation around games change? How did playerload, jumps, high accelerations, and change of direction compare before games over the current season and the previous season?\"\n",
    "\n",
    "The"
   ]
  },
  {
   "cell_type": "markdown",
   "id": "8c149d57",
   "metadata": {},
   "source": [
    "## Important Variables"
   ]
  },
  {
   "cell_type": "markdown",
   "id": "0fd612b9",
   "metadata": {},
   "source": [
    "- List which ones are important for your analysis and why.\n",
    "\n",
    "The"
   ]
  },
  {
   "cell_type": "markdown",
   "id": "68fdc12e",
   "metadata": {},
   "source": [
    "# Merging and Cleaning the Dataset"
   ]
  },
  {
   "cell_type": "markdown",
   "id": "cda9ed60",
   "metadata": {},
   "source": [
    "- Clean the data: Remove duplicates, handle missing values, correct data types\n",
    "\n",
    "- Your final dataset should include only variables relevant to your problem"
   ]
  },
  {
   "cell_type": "code",
   "execution_count": 10,
   "id": "d9169d73",
   "metadata": {},
   "outputs": [],
   "source": [
    "# Imports\n",
    "import numpy as np\n",
    "import pandas as pd\n",
    "import matplotlib.pyplot as plt\n",
    "import seaborn as sns"
   ]
  },
  {
   "cell_type": "markdown",
   "id": "3bbc1478",
   "metadata": {},
   "source": [
    "## Descriptive Statistics & Distributions"
   ]
  },
  {
   "cell_type": "markdown",
   "id": "89087d83",
   "metadata": {},
   "source": [
    "- Provide Summaries of important variables\n",
    "\n",
    "- Use visualizations to explore distributions"
   ]
  },
  {
   "cell_type": "code",
   "execution_count": null,
   "id": "9ee0288f",
   "metadata": {},
   "outputs": [],
   "source": []
  },
  {
   "cell_type": "markdown",
   "id": "267ed9ae",
   "metadata": {},
   "source": [
    "## Examine Correlations (If Relevant)"
   ]
  },
  {
   "cell_type": "markdown",
   "id": "908810b5",
   "metadata": {},
   "source": [
    "- Interpret Findings: What variables appear related?"
   ]
  },
  {
   "cell_type": "code",
   "execution_count": null,
   "id": "f58ac2a8",
   "metadata": {},
   "outputs": [],
   "source": []
  },
  {
   "cell_type": "markdown",
   "id": "74818b67",
   "metadata": {},
   "source": [
    "## Explore Relationship (If Relevant)"
   ]
  },
  {
   "cell_type": "markdown",
   "id": "c6b9e755",
   "metadata": {},
   "source": [
    "- Dig into potential causal or descriptive relationships\n",
    "\n",
    "- Use visualizations and statistical summaries"
   ]
  },
  {
   "cell_type": "code",
   "execution_count": null,
   "id": "b0da6a62",
   "metadata": {},
   "outputs": [],
   "source": []
  }
 ],
 "metadata": {
  "kernelspec": {
   "display_name": "Python 3",
   "language": "python",
   "name": "python3"
  },
  "language_info": {
   "codemirror_mode": {
    "name": "ipython",
    "version": 3
   },
   "file_extension": ".py",
   "mimetype": "text/x-python",
   "name": "python",
   "nbconvert_exporter": "python",
   "pygments_lexer": "ipython3",
   "version": "3.10.12"
  }
 },
 "nbformat": 4,
 "nbformat_minor": 5
}
