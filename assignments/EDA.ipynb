{
 "cells": [
  {
   "cell_type": "markdown",
   "id": "a18d82ab",
   "metadata": {},
   "source": [
    "# Exploratory Data Analysis"
   ]
  },
  {
   "cell_type": "markdown",
   "id": "f1e09e8a",
   "metadata": {},
   "source": [
    "## Audience/Stakeholders"
   ]
  },
  {
   "cell_type": "markdown",
   "id": "d0cf2f02",
   "metadata": {},
   "source": [
    "- Clearly identify who your are writing your final report for\n",
    "\n",
    "The"
   ]
  },
  {
   "cell_type": "markdown",
   "id": "f0823f4e",
   "metadata": {},
   "source": [
    "## Problem Statement"
   ]
  },
  {
   "cell_type": "markdown",
   "id": "452b2b9d",
   "metadata": {},
   "source": [
    "- Create a concise and compelling problem or question that guides your analysis. Example\n",
    "  - \"The men's basketball team had a worse performance this year. Did preparation around games change? How did playerload, jumps, high accelerations, and change of direction compare before games over the current season and the previous season?\"\n",
    "\n",
    "The"
   ]
  },
  {
   "cell_type": "markdown",
   "id": "8c149d57",
   "metadata": {},
   "source": [
    "## Important Variables"
   ]
  },
  {
   "cell_type": "markdown",
   "id": "0fd612b9",
   "metadata": {},
   "source": [
    "- List which ones are important for your analysis and why.\n",
    "\n",
    "The"
   ]
  },
  {
   "cell_type": "markdown",
   "id": "68fdc12e",
   "metadata": {},
   "source": [
    "## Merging and Cleaning the Dataset"
   ]
  },
  {
   "cell_type": "markdown",
   "id": "cda9ed60",
   "metadata": {},
   "source": [
    "- Clean the data: Remove duplicates, handle missing values, correct data types\n",
    "\n",
    "- Your final dataset should include only variables relevant to your problem"
   ]
  },
  {
   "cell_type": "code",
   "execution_count": 5,
   "id": "d9169d73",
   "metadata": {},
   "outputs": [
    {
     "name": "stderr",
     "output_type": "stream",
     "text": [
      "/tmp/ipykernel_28720/4289235948.py:19: UserWarning: Could not infer format, so each element will be parsed individually, falling back to `dateutil`. To ensure parsing is consistent and as-expected, please specify a format.\n",
      "  data[\"Date\"] = pd.to_datetime(data[\"Date\"])\n"
     ]
    },
    {
     "data": {
      "text/html": [
       "<div>\n",
       "<style scoped>\n",
       "    .dataframe tbody tr th:only-of-type {\n",
       "        vertical-align: middle;\n",
       "    }\n",
       "\n",
       "    .dataframe tbody tr th {\n",
       "        vertical-align: top;\n",
       "    }\n",
       "\n",
       "    .dataframe thead th {\n",
       "        text-align: right;\n",
       "    }\n",
       "</style>\n",
       "<table border=\"1\" class=\"dataframe\">\n",
       "  <thead>\n",
       "    <tr style=\"text-align: right;\">\n",
       "      <th></th>\n",
       "      <th>Date</th>\n",
       "      <th>About</th>\n",
       "      <th>Position</th>\n",
       "      <th>Period Number</th>\n",
       "      <th>Period</th>\n",
       "      <th>Total Acceleration Efforts</th>\n",
       "      <th>Total Player Load</th>\n",
       "      <th>Player Load Per Minute</th>\n",
       "      <th>IMA Accel Low</th>\n",
       "      <th>IMA Decel Low</th>\n",
       "      <th>...</th>\n",
       "      <th>Session Total Jump</th>\n",
       "      <th>Session Jumps Per Minute</th>\n",
       "      <th>Total CoD Left</th>\n",
       "      <th>Total CoD Right</th>\n",
       "      <th>Total High IMA</th>\n",
       "      <th>Total IMA</th>\n",
       "      <th>IMA/Min</th>\n",
       "      <th>event-uuid</th>\n",
       "      <th>group-uuid</th>\n",
       "      <th>Season</th>\n",
       "    </tr>\n",
       "  </thead>\n",
       "  <tbody>\n",
       "    <tr>\n",
       "      <th>0</th>\n",
       "      <td>2023-03-14</td>\n",
       "      <td>Athlete I</td>\n",
       "      <td>Guard</td>\n",
       "      <td>1</td>\n",
       "      <td>1. Pre Practice</td>\n",
       "      <td>0</td>\n",
       "      <td>87.437</td>\n",
       "      <td>4.1</td>\n",
       "      <td>3</td>\n",
       "      <td>17</td>\n",
       "      <td>...</td>\n",
       "      <td>95.0</td>\n",
       "      <td>1.05</td>\n",
       "      <td>269.0</td>\n",
       "      <td>306.0</td>\n",
       "      <td>89.0</td>\n",
       "      <td>899.0</td>\n",
       "      <td>NaN</td>\n",
       "      <td>c4e1f0fe-b87a-42ca-8f41-b5b0e4cdfab3</td>\n",
       "      <td>c4e1f0fe-b87a-42ca-8f41-b5b0e4cdfab3</td>\n",
       "      <td>1</td>\n",
       "    </tr>\n",
       "    <tr>\n",
       "      <th>1</th>\n",
       "      <td>2023-03-14</td>\n",
       "      <td>Athlete I</td>\n",
       "      <td>Guard</td>\n",
       "      <td>2</td>\n",
       "      <td>2. Drill_Offense_ Flare, Rescreen_Half Court_4v4</td>\n",
       "      <td>0</td>\n",
       "      <td>34.257</td>\n",
       "      <td>8.2</td>\n",
       "      <td>4</td>\n",
       "      <td>4</td>\n",
       "      <td>...</td>\n",
       "      <td>NaN</td>\n",
       "      <td>NaN</td>\n",
       "      <td>NaN</td>\n",
       "      <td>NaN</td>\n",
       "      <td>NaN</td>\n",
       "      <td>NaN</td>\n",
       "      <td>NaN</td>\n",
       "      <td>c4e1f0fe-b87a-42ca-8f41-b5b0e4cdfab3</td>\n",
       "      <td>c4e1f0fe-b87a-42ca-8f41-b5b0e4cdfab3</td>\n",
       "      <td>1</td>\n",
       "    </tr>\n",
       "    <tr>\n",
       "      <th>2</th>\n",
       "      <td>2023-03-14</td>\n",
       "      <td>Athlete I</td>\n",
       "      <td>Guard</td>\n",
       "      <td>3</td>\n",
       "      <td>3. Drill_Defense_PCM_Half Court_4v4</td>\n",
       "      <td>0</td>\n",
       "      <td>31.399</td>\n",
       "      <td>9.9</td>\n",
       "      <td>1</td>\n",
       "      <td>4</td>\n",
       "      <td>...</td>\n",
       "      <td>NaN</td>\n",
       "      <td>NaN</td>\n",
       "      <td>NaN</td>\n",
       "      <td>NaN</td>\n",
       "      <td>NaN</td>\n",
       "      <td>NaN</td>\n",
       "      <td>NaN</td>\n",
       "      <td>c4e1f0fe-b87a-42ca-8f41-b5b0e4cdfab3</td>\n",
       "      <td>c4e1f0fe-b87a-42ca-8f41-b5b0e4cdfab3</td>\n",
       "      <td>1</td>\n",
       "    </tr>\n",
       "    <tr>\n",
       "      <th>3</th>\n",
       "      <td>2023-03-14</td>\n",
       "      <td>Athlete I</td>\n",
       "      <td>Guard</td>\n",
       "      <td>4</td>\n",
       "      <td>4. Drill_Defense_Lane Width Slide_Full Court_1v1</td>\n",
       "      <td>0</td>\n",
       "      <td>13.616</td>\n",
       "      <td>7.0</td>\n",
       "      <td>1</td>\n",
       "      <td>2</td>\n",
       "      <td>...</td>\n",
       "      <td>NaN</td>\n",
       "      <td>NaN</td>\n",
       "      <td>NaN</td>\n",
       "      <td>NaN</td>\n",
       "      <td>NaN</td>\n",
       "      <td>NaN</td>\n",
       "      <td>NaN</td>\n",
       "      <td>c4e1f0fe-b87a-42ca-8f41-b5b0e4cdfab3</td>\n",
       "      <td>c4e1f0fe-b87a-42ca-8f41-b5b0e4cdfab3</td>\n",
       "      <td>1</td>\n",
       "    </tr>\n",
       "    <tr>\n",
       "      <th>4</th>\n",
       "      <td>2023-03-14</td>\n",
       "      <td>Athlete I</td>\n",
       "      <td>Guard</td>\n",
       "      <td>5</td>\n",
       "      <td>5. Drill_Defense_Fake Game_Half Court_2v2</td>\n",
       "      <td>0</td>\n",
       "      <td>28.724</td>\n",
       "      <td>7.7</td>\n",
       "      <td>2</td>\n",
       "      <td>8</td>\n",
       "      <td>...</td>\n",
       "      <td>NaN</td>\n",
       "      <td>NaN</td>\n",
       "      <td>NaN</td>\n",
       "      <td>NaN</td>\n",
       "      <td>NaN</td>\n",
       "      <td>NaN</td>\n",
       "      <td>NaN</td>\n",
       "      <td>c4e1f0fe-b87a-42ca-8f41-b5b0e4cdfab3</td>\n",
       "      <td>c4e1f0fe-b87a-42ca-8f41-b5b0e4cdfab3</td>\n",
       "      <td>1</td>\n",
       "    </tr>\n",
       "  </tbody>\n",
       "</table>\n",
       "<p>5 rows × 54 columns</p>\n",
       "</div>"
      ],
      "text/plain": [
       "        Date      About Position  Period Number  \\\n",
       "0 2023-03-14  Athlete I    Guard              1   \n",
       "1 2023-03-14  Athlete I    Guard              2   \n",
       "2 2023-03-14  Athlete I    Guard              3   \n",
       "3 2023-03-14  Athlete I    Guard              4   \n",
       "4 2023-03-14  Athlete I    Guard              5   \n",
       "\n",
       "                                             Period  \\\n",
       "0                                   1. Pre Practice   \n",
       "1  2. Drill_Offense_ Flare, Rescreen_Half Court_4v4   \n",
       "2               3. Drill_Defense_PCM_Half Court_4v4   \n",
       "3  4. Drill_Defense_Lane Width Slide_Full Court_1v1   \n",
       "4         5. Drill_Defense_Fake Game_Half Court_2v2   \n",
       "\n",
       "   Total Acceleration Efforts  Total Player Load  Player Load Per Minute  \\\n",
       "0                           0             87.437                     4.1   \n",
       "1                           0             34.257                     8.2   \n",
       "2                           0             31.399                     9.9   \n",
       "3                           0             13.616                     7.0   \n",
       "4                           0             28.724                     7.7   \n",
       "\n",
       "   IMA Accel Low  IMA Decel Low  ...  Session Total Jump  \\\n",
       "0              3             17  ...                95.0   \n",
       "1              4              4  ...                 NaN   \n",
       "2              1              4  ...                 NaN   \n",
       "3              1              2  ...                 NaN   \n",
       "4              2              8  ...                 NaN   \n",
       "\n",
       "   Session Jumps Per Minute  Total CoD Left  Total CoD Right  Total High IMA  \\\n",
       "0                      1.05           269.0            306.0            89.0   \n",
       "1                       NaN             NaN              NaN             NaN   \n",
       "2                       NaN             NaN              NaN             NaN   \n",
       "3                       NaN             NaN              NaN             NaN   \n",
       "4                       NaN             NaN              NaN             NaN   \n",
       "\n",
       "   Total IMA  IMA/Min                            event-uuid  \\\n",
       "0      899.0      NaN  c4e1f0fe-b87a-42ca-8f41-b5b0e4cdfab3   \n",
       "1        NaN      NaN  c4e1f0fe-b87a-42ca-8f41-b5b0e4cdfab3   \n",
       "2        NaN      NaN  c4e1f0fe-b87a-42ca-8f41-b5b0e4cdfab3   \n",
       "3        NaN      NaN  c4e1f0fe-b87a-42ca-8f41-b5b0e4cdfab3   \n",
       "4        NaN      NaN  c4e1f0fe-b87a-42ca-8f41-b5b0e4cdfab3   \n",
       "\n",
       "                             group-uuid  Season  \n",
       "0  c4e1f0fe-b87a-42ca-8f41-b5b0e4cdfab3       1  \n",
       "1  c4e1f0fe-b87a-42ca-8f41-b5b0e4cdfab3       1  \n",
       "2  c4e1f0fe-b87a-42ca-8f41-b5b0e4cdfab3       1  \n",
       "3  c4e1f0fe-b87a-42ca-8f41-b5b0e4cdfab3       1  \n",
       "4  c4e1f0fe-b87a-42ca-8f41-b5b0e4cdfab3       1  \n",
       "\n",
       "[5 rows x 54 columns]"
      ]
     },
     "execution_count": 5,
     "metadata": {},
     "output_type": "execute_result"
    }
   ],
   "source": [
    "# Imports\n",
    "import numpy as np\n",
    "import pandas as pd\n",
    "import matplotlib.pyplot as plt\n",
    "import seaborn as sns\n",
    "\n",
    "# Loading in data from season 1 and 2\n",
    "s1 = pd.read_csv(\"../data/catapult season 1.csv\")\n",
    "s2 = pd.read_csv(\"../data/catapult season 2.csv\")\n",
    "\n",
    "# Adding column with season to each dataset\n",
    "s1[\"Season\"] = 1\n",
    "s2[\"Season\"] = 2\n",
    "\n",
    "# Combining the two seasons of data into a single data frame\n",
    "data = pd.concat([s1, s2])\n",
    "\n",
    "# Converting date column to datetime\n",
    "data[\"Date\"] = pd.to_datetime(data[\"Date\"])\n",
    "\n",
    "data.head()"
   ]
  },
  {
   "cell_type": "markdown",
   "id": "3bbc1478",
   "metadata": {},
   "source": [
    "## Descriptive Statistics & Distributions"
   ]
  },
  {
   "cell_type": "markdown",
   "id": "89087d83",
   "metadata": {},
   "source": [
    "- Provide Summaries of important variables\n",
    "\n",
    "- Use visualizations to explore distributions"
   ]
  },
  {
   "cell_type": "code",
   "execution_count": null,
   "id": "9ee0288f",
   "metadata": {},
   "outputs": [],
   "source": []
  },
  {
   "cell_type": "markdown",
   "id": "267ed9ae",
   "metadata": {},
   "source": [
    "## Examine Correlations (If Relevant)"
   ]
  },
  {
   "cell_type": "markdown",
   "id": "908810b5",
   "metadata": {},
   "source": [
    "- Interpret Findings: What variables appear related?"
   ]
  },
  {
   "cell_type": "code",
   "execution_count": null,
   "id": "f58ac2a8",
   "metadata": {},
   "outputs": [],
   "source": []
  },
  {
   "cell_type": "markdown",
   "id": "74818b67",
   "metadata": {},
   "source": [
    "## Explore Relationship (If Relevant)"
   ]
  },
  {
   "cell_type": "markdown",
   "id": "c6b9e755",
   "metadata": {},
   "source": [
    "- Dig into potential causal or descriptive relationships\n",
    "\n",
    "- Use visualizations and statistical summaries"
   ]
  },
  {
   "cell_type": "code",
   "execution_count": null,
   "id": "b0da6a62",
   "metadata": {},
   "outputs": [],
   "source": []
  }
 ],
 "metadata": {
  "kernelspec": {
   "display_name": "Python 3",
   "language": "python",
   "name": "python3"
  },
  "language_info": {
   "codemirror_mode": {
    "name": "ipython",
    "version": 3
   },
   "file_extension": ".py",
   "mimetype": "text/x-python",
   "name": "python",
   "nbconvert_exporter": "python",
   "pygments_lexer": "ipython3",
   "version": "3.10.12"
  }
 },
 "nbformat": 4,
 "nbformat_minor": 5
}
