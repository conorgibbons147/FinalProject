{
 "cells": [
  {
   "cell_type": "markdown",
   "id": "a18d82ab",
   "metadata": {},
   "source": [
    "# Exploratory Data Analysis"
   ]
  },
  {
   "cell_type": "markdown",
   "id": "f1e09e8a",
   "metadata": {},
   "source": [
    "## Audience/Stakeholders"
   ]
  },
  {
   "cell_type": "markdown",
   "id": "d0cf2f02",
   "metadata": {},
   "source": [
    "- Clearly identify who your are writing your final report for\n",
    "\n",
    "This final report on the performance of UVA men's basketball is intended for the Coaching Staff, as well as the Athletic Department. These stakeholders are involved in studying and making decisions about player developments, training loads, game preparations, and long-term performance strategies."
   ]
  },
  {
   "cell_type": "markdown",
   "id": "f0823f4e",
   "metadata": {},
   "source": [
    "## Problem Statement"
   ]
  },
  {
   "cell_type": "markdown",
   "id": "452b2b9d",
   "metadata": {},
   "source": [
    "- Create a concise and compelling problem or question that guides your analysis.\n",
    "  - Ex. \"The men's basketball team had a worse performance this year. Did preparation around games change? How did playerload, jumps, high accelerations, and change of direction compare before games over the current season and the previous season?\"\n",
    "  \n",
    "In today’s college basketball climate where players often jump from school to school, many programs have struggled to adapt. Many programs, like UVA, have historically relied on player development with the convention of players staying at a single school throughout their college career. Given the shifting landscape, we want to analyze whether or not a single season is enough for a player to truly develop and progress. We will look at the Catapult data of several players over the course of a season, tracking how their PlayerLoad/min and jump/acceleration band distributions evolve. We want to measure individual growth with the aim of driving scouting decisions. Should coaches scout players with the anticipation that significant player development can happen over the course of just one season or should they recruit more talented players with less room for growth under the assumption that one season isn’t enough for a player to mature?"
   ]
  },
  {
   "cell_type": "markdown",
   "id": "8c149d57",
   "metadata": {},
   "source": [
    "## Important Variables"
   ]
  },
  {
   "cell_type": "markdown",
   "id": "0fd612b9",
   "metadata": {},
   "source": [
    "- List which ones are important for your analysis and why."
   ]
  },
  {
   "cell_type": "markdown",
   "id": "68fdc12e",
   "metadata": {},
   "source": [
    "## Merging and Cleaning the Dataset"
   ]
  },
  {
   "cell_type": "markdown",
   "id": "cda9ed60",
   "metadata": {},
   "source": [
    "- Clean the data: Remove duplicates, handle missing values, correct data types\n",
    "\n",
    "- Your final dataset should include only variables relevant to your problem"
   ]
  },
  {
   "cell_type": "code",
   "execution_count": 4,
   "id": "d9169d73",
   "metadata": {},
   "outputs": [
    {
     "data": {
      "text/html": [
       "<div>\n",
       "<style scoped>\n",
       "    .dataframe tbody tr th:only-of-type {\n",
       "        vertical-align: middle;\n",
       "    }\n",
       "\n",
       "    .dataframe tbody tr th {\n",
       "        vertical-align: top;\n",
       "    }\n",
       "\n",
       "    .dataframe thead th {\n",
       "        text-align: right;\n",
       "    }\n",
       "</style>\n",
       "<table border=\"1\" class=\"dataframe\">\n",
       "  <thead>\n",
       "    <tr style=\"text-align: right;\">\n",
       "      <th></th>\n",
       "      <th>Date</th>\n",
       "      <th>About</th>\n",
       "      <th>Position</th>\n",
       "      <th>Period Number</th>\n",
       "      <th>Period</th>\n",
       "      <th>Total Acceleration Efforts</th>\n",
       "      <th>Total Player Load</th>\n",
       "      <th>Player Load Per Minute</th>\n",
       "      <th>IMA Accel Low</th>\n",
       "      <th>IMA Decel Low</th>\n",
       "      <th>...</th>\n",
       "      <th>Session Total Jump</th>\n",
       "      <th>Session Jumps Per Minute</th>\n",
       "      <th>Total CoD Left</th>\n",
       "      <th>Total CoD Right</th>\n",
       "      <th>Total High IMA</th>\n",
       "      <th>Total IMA</th>\n",
       "      <th>IMA/Min</th>\n",
       "      <th>event-uuid</th>\n",
       "      <th>group-uuid</th>\n",
       "      <th>Season</th>\n",
       "    </tr>\n",
       "  </thead>\n",
       "  <tbody>\n",
       "    <tr>\n",
       "      <th>0</th>\n",
       "      <td>2023-03-14</td>\n",
       "      <td>Athlete I</td>\n",
       "      <td>Guard</td>\n",
       "      <td>1</td>\n",
       "      <td>1. Pre Practice</td>\n",
       "      <td>0</td>\n",
       "      <td>87.437</td>\n",
       "      <td>4.1</td>\n",
       "      <td>3</td>\n",
       "      <td>17</td>\n",
       "      <td>...</td>\n",
       "      <td>95.0</td>\n",
       "      <td>1.05</td>\n",
       "      <td>269.0</td>\n",
       "      <td>306.0</td>\n",
       "      <td>89.0</td>\n",
       "      <td>899.0</td>\n",
       "      <td>NaN</td>\n",
       "      <td>c4e1f0fe-b87a-42ca-8f41-b5b0e4cdfab3</td>\n",
       "      <td>c4e1f0fe-b87a-42ca-8f41-b5b0e4cdfab3</td>\n",
       "      <td>1</td>\n",
       "    </tr>\n",
       "  </tbody>\n",
       "</table>\n",
       "<p>1 rows × 54 columns</p>\n",
       "</div>"
      ],
      "text/plain": [
       "        Date      About Position  Period Number           Period  \\\n",
       "0 2023-03-14  Athlete I    Guard              1  1. Pre Practice   \n",
       "\n",
       "   Total Acceleration Efforts  Total Player Load  Player Load Per Minute  \\\n",
       "0                           0             87.437                     4.1   \n",
       "\n",
       "   IMA Accel Low  IMA Decel Low  ...  Session Total Jump  \\\n",
       "0              3             17  ...                95.0   \n",
       "\n",
       "   Session Jumps Per Minute  Total CoD Left  Total CoD Right  Total High IMA  \\\n",
       "0                      1.05           269.0            306.0            89.0   \n",
       "\n",
       "   Total IMA  IMA/Min                            event-uuid  \\\n",
       "0      899.0      NaN  c4e1f0fe-b87a-42ca-8f41-b5b0e4cdfab3   \n",
       "\n",
       "                             group-uuid  Season  \n",
       "0  c4e1f0fe-b87a-42ca-8f41-b5b0e4cdfab3       1  \n",
       "\n",
       "[1 rows x 54 columns]"
      ]
     },
     "execution_count": 4,
     "metadata": {},
     "output_type": "execute_result"
    }
   ],
   "source": [
    "# Imports\n",
    "import numpy as np\n",
    "import pandas as pd\n",
    "import matplotlib.pyplot as plt\n",
    "import seaborn as sns\n",
    "import warnings\n",
    "\n",
    "# Loading in data from season 1 and 2\n",
    "s1 = pd.read_csv(\"../data/catapult season 1.csv\")\n",
    "s2 = pd.read_csv(\"../data/catapult season 2.csv\")\n",
    "\n",
    "# Adding column with season to each dataset\n",
    "s1[\"Season\"] = 1\n",
    "s2[\"Season\"] = 2\n",
    "\n",
    "# Combining the two seasons of data into a single data frame\n",
    "data = pd.concat([s1, s2])\n",
    "# Ignoring the UserWarning raised by the above line. The warning raised tells me that not setting a specific format or handing errors could be problematic, but further\n",
    "# examination of the Date column showed that is not, so I am hiding the warning from printing\n",
    "warnings.simplefilter(action = \"ignore\", category = UserWarning)\n",
    "\n",
    "# Converting date column to datetime\n",
    "data[\"Date\"] = pd.to_datetime(data[\"Date\"])\n",
    "\n",
    "data.head(1)"
   ]
  },
  {
   "cell_type": "code",
   "execution_count": 5,
   "id": "b6043d15",
   "metadata": {},
   "outputs": [
    {
     "data": {
      "text/html": [
       "<div>\n",
       "<style scoped>\n",
       "    .dataframe tbody tr th:only-of-type {\n",
       "        vertical-align: middle;\n",
       "    }\n",
       "\n",
       "    .dataframe tbody tr th {\n",
       "        vertical-align: top;\n",
       "    }\n",
       "\n",
       "    .dataframe thead th {\n",
       "        text-align: right;\n",
       "    }\n",
       "</style>\n",
       "<table border=\"1\" class=\"dataframe\">\n",
       "  <thead>\n",
       "    <tr style=\"text-align: right;\">\n",
       "      <th></th>\n",
       "      <th>Date</th>\n",
       "      <th>About</th>\n",
       "      <th>Period</th>\n",
       "      <th>Player Load Per Minute</th>\n",
       "      <th>IMA Accel Low</th>\n",
       "      <th>IMA Accel High</th>\n",
       "      <th>IMA Accel Total</th>\n",
       "      <th>IMA Jump Count Low Band</th>\n",
       "      <th>IMA Jump Count Med Band</th>\n",
       "      <th>IMA Jump Count High Band</th>\n",
       "      <th>Season</th>\n",
       "    </tr>\n",
       "  </thead>\n",
       "  <tbody>\n",
       "    <tr>\n",
       "      <th>0</th>\n",
       "      <td>2023-03-14</td>\n",
       "      <td>Athlete I</td>\n",
       "      <td>1. Pre Practice</td>\n",
       "      <td>4.1</td>\n",
       "      <td>3</td>\n",
       "      <td>1</td>\n",
       "      <td>4</td>\n",
       "      <td>0</td>\n",
       "      <td>17</td>\n",
       "      <td>5</td>\n",
       "      <td>1</td>\n",
       "    </tr>\n",
       "    <tr>\n",
       "      <th>1</th>\n",
       "      <td>2023-03-14</td>\n",
       "      <td>Athlete I</td>\n",
       "      <td>2. Drill_Offense_ Flare, Rescreen_Half Court_4v4</td>\n",
       "      <td>8.2</td>\n",
       "      <td>4</td>\n",
       "      <td>1</td>\n",
       "      <td>7</td>\n",
       "      <td>4</td>\n",
       "      <td>1</td>\n",
       "      <td>0</td>\n",
       "      <td>1</td>\n",
       "    </tr>\n",
       "    <tr>\n",
       "      <th>2</th>\n",
       "      <td>2023-03-14</td>\n",
       "      <td>Athlete I</td>\n",
       "      <td>3. Drill_Defense_PCM_Half Court_4v4</td>\n",
       "      <td>9.9</td>\n",
       "      <td>1</td>\n",
       "      <td>1</td>\n",
       "      <td>4</td>\n",
       "      <td>0</td>\n",
       "      <td>7</td>\n",
       "      <td>0</td>\n",
       "      <td>1</td>\n",
       "    </tr>\n",
       "    <tr>\n",
       "      <th>3</th>\n",
       "      <td>2023-03-14</td>\n",
       "      <td>Athlete I</td>\n",
       "      <td>4. Drill_Defense_Lane Width Slide_Full Court_1v1</td>\n",
       "      <td>7.0</td>\n",
       "      <td>1</td>\n",
       "      <td>0</td>\n",
       "      <td>4</td>\n",
       "      <td>0</td>\n",
       "      <td>0</td>\n",
       "      <td>0</td>\n",
       "      <td>1</td>\n",
       "    </tr>\n",
       "    <tr>\n",
       "      <th>4</th>\n",
       "      <td>2023-03-14</td>\n",
       "      <td>Athlete I</td>\n",
       "      <td>5. Drill_Defense_Fake Game_Half Court_2v2</td>\n",
       "      <td>7.7</td>\n",
       "      <td>2</td>\n",
       "      <td>0</td>\n",
       "      <td>2</td>\n",
       "      <td>2</td>\n",
       "      <td>2</td>\n",
       "      <td>3</td>\n",
       "      <td>1</td>\n",
       "    </tr>\n",
       "  </tbody>\n",
       "</table>\n",
       "</div>"
      ],
      "text/plain": [
       "        Date      About                                            Period  \\\n",
       "0 2023-03-14  Athlete I                                   1. Pre Practice   \n",
       "1 2023-03-14  Athlete I  2. Drill_Offense_ Flare, Rescreen_Half Court_4v4   \n",
       "2 2023-03-14  Athlete I               3. Drill_Defense_PCM_Half Court_4v4   \n",
       "3 2023-03-14  Athlete I  4. Drill_Defense_Lane Width Slide_Full Court_1v1   \n",
       "4 2023-03-14  Athlete I         5. Drill_Defense_Fake Game_Half Court_2v2   \n",
       "\n",
       "   Player Load Per Minute  IMA Accel Low  IMA Accel High  IMA Accel Total  \\\n",
       "0                     4.1              3               1                4   \n",
       "1                     8.2              4               1                7   \n",
       "2                     9.9              1               1                4   \n",
       "3                     7.0              1               0                4   \n",
       "4                     7.7              2               0                2   \n",
       "\n",
       "   IMA Jump Count Low Band  IMA Jump Count Med Band  IMA Jump Count High Band  \\\n",
       "0                        0                       17                         5   \n",
       "1                        4                        1                         0   \n",
       "2                        0                        7                         0   \n",
       "3                        0                        0                         0   \n",
       "4                        2                        2                         3   \n",
       "\n",
       "   Season  \n",
       "0       1  \n",
       "1       1  \n",
       "2       1  \n",
       "3       1  \n",
       "4       1  "
      ]
     },
     "execution_count": 5,
     "metadata": {},
     "output_type": "execute_result"
    }
   ],
   "source": [
    "columns_of_interest = [\"Date\", \"About\", \"Period\", \"Player Load Per Minute\", \"IMA Accel Low\", \"IMA Accel High\", \"IMA Accel Total\", \"IMA Jump Count Low Band\", \"IMA Jump Count Med Band\", \"IMA Jump Count High Band\", \"Season\"]\n",
    "\n",
    "data = data[columns_of_interest]\n",
    "\n",
    "# Renaming periods which correspond to game halves\n",
    "data.loc[data[\"Period\"].str.contains(\"Period 1\"), \"Period\"] = \"Game Half 1\"\n",
    "data.loc[data[\"Period\"].str.contains(\"Period 2\"), \"Period\"] = \"Game Half 2\"\n",
    "\n",
    "data.head()"
   ]
  },
  {
   "cell_type": "markdown",
   "id": "3bbc1478",
   "metadata": {},
   "source": [
    "## Descriptive Statistics & Distributions"
   ]
  },
  {
   "cell_type": "markdown",
   "id": "89087d83",
   "metadata": {},
   "source": [
    "- Provide Summaries of important variables\n",
    "\n",
    "- Use visualizations to explore distributions"
   ]
  },
  {
   "cell_type": "code",
   "execution_count": null,
   "id": "9ee0288f",
   "metadata": {},
   "outputs": [],
   "source": []
  },
  {
   "cell_type": "markdown",
   "id": "267ed9ae",
   "metadata": {},
   "source": [
    "## Examine Correlations (If Relevant)"
   ]
  },
  {
   "cell_type": "markdown",
   "id": "908810b5",
   "metadata": {},
   "source": [
    "- Interpret Findings: What variables appear related?"
   ]
  },
  {
   "cell_type": "code",
   "execution_count": null,
   "id": "f58ac2a8",
   "metadata": {},
   "outputs": [],
   "source": []
  },
  {
   "cell_type": "markdown",
   "id": "74818b67",
   "metadata": {},
   "source": [
    "## Explore Relationship (If Relevant)"
   ]
  },
  {
   "cell_type": "markdown",
   "id": "c6b9e755",
   "metadata": {},
   "source": [
    "- Dig into potential causal or descriptive relationships\n",
    "\n",
    "- Use visualizations and statistical summaries"
   ]
  },
  {
   "cell_type": "code",
   "execution_count": null,
   "id": "b0da6a62",
   "metadata": {},
   "outputs": [],
   "source": []
  }
 ],
 "metadata": {
  "kernelspec": {
   "display_name": "Python 3",
   "language": "python",
   "name": "python3"
  },
  "language_info": {
   "codemirror_mode": {
    "name": "ipython",
    "version": 3
   },
   "file_extension": ".py",
   "mimetype": "text/x-python",
   "name": "python",
   "nbconvert_exporter": "python",
   "pygments_lexer": "ipython3",
   "version": "3.10.12"
  }
 },
 "nbformat": 4,
 "nbformat_minor": 5
}
